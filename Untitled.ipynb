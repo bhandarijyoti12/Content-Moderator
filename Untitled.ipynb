{
 "cells": [
  {
   "cell_type": "code",
   "execution_count": null,
   "id": "ed8d3712",
   "metadata": {},
   "outputs": [],
   "source": [
    "import re\n",
    "import numpy as np\n",
    "import pandas as pd\n",
    "import matplotlib.pyplot as plt\n",
    "import seaborn as sns\n",
    "%matplotlib inline\n",
    "import nltk\n",
    "from nltk.corpus import stopwords\n",
    "from nltk.stem import PorterStemmer\n",
    "from nltk.stem.snowball import SnowballStemmer\n",
    "from nltk.stem import WordNetLemmatizer\n",
    "from nltk.tokenize import word_tokenize\n",
    "nltk.download('stopwords')\n",
    "nltk.download('punkt')\n",
    "from sklearn.model_selection import train_test_split\n",
    "from sklearn.model_selection import GridSearchCV\n",
    "from sklearn import metrics\n",
    "from sklearn.metrics import accuracy_score\n",
    "from sklearn.svm import SVC\n",
    "from sklearn.svm import LinearSVC\n",
    "from sklearn.metrics import confusion_matrix, plot_confusion_matrix\n",
    "from sklearn.naive_bayes import MultinomialNB\n",
    "from sklearn.linear_model import LogisticRegression\n",
    "from sklearn.ensemble import RandomForestClassifier\n",
    "from sklearn.feature_extraction.text import TfidfVectorizer\n",
    "from sklearn.feature_extraction.text import CountVectorizer\n",
    "from sklearn.tree import DecisionTreeClassifier\n",
    "\n",
    "df_train = pd.read_csv('train.csv')\n",
    "df_test = pd.read_csv('test.csv')\n",
    "df_train.drop_duplicates(subset=['tweet'], keep='last', inplace=True)\n",
    "df_train.reset_index(inplace=True)\n",
    "print(\"Shape of Train set after removing duplicates:\", df_train.shape)\n",
    "df_offensive =pd.read_csv(\"labeled_data.csv\")\n",
    "df_offensive[\"class\"].replace({0: 1}, inplace=True)\n",
    "df_offensive[\"class\"].replace({2: 0}, inplace=True)\n",
    "df_offensive.drop(['Unnamed: 0','count','hate_speech','offensive_language','neither'],axis=1,inplace=True)\n",
    "df_offensive.rename(columns ={'class':'label'}, inplace = True)\n",
    "df_train_final = pd.concat([df_train,df_offensive])\n",
    "df_train_final.drop(['id'],axis=1,inplace=True)\n"
   ]
  },
  {
   "cell_type": "code",
   "execution_count": null,
   "id": "922e82f1",
   "metadata": {},
   "outputs": [],
   "source": [
    "df_train_final"
   ]
  },
  {
   "cell_type": "code",
   "execution_count": 3,
   "id": "c6d2b41f",
   "metadata": {},
   "outputs": [],
   "source": [
    "import re\n",
    "REPLACE_BY_SPACE_RE = re.compile('[/(){}\\[\\]\\|@,;]')\n",
    "BAD_SYMBOLS_RE = re.compile('[^0-9a-z #+_]')\n",
    "STOPWORDS = set(stopwords.words('english'))\n",
    "\n",
    "def text_cleaner(input_text):\n",
    "\n",
    "    input_text = input_text.lower() \n",
    "    input_text = re.sub(r'@[A-Za-z0-9_]+','',str(input_text))    # Removing @mentions\n",
    "    input_text = re.sub(r'#','',str(input_text))                 # Removing #tag symbol\n",
    "    input_text = re.sub(r'RT[\\s]+',' ',input_text)   \n",
    "    input_text = REPLACE_BY_SPACE_RE.sub(' ', input_text)\n",
    "    input_text = BAD_SYMBOLS_RE.sub('', input_text)  \n",
    "    input_text = input_text.replace('x', '')\n",
    "    input_text = ' '.join(word for word in input_text.split() if word not in STOPWORDS) \n",
    "    return input_text"
   ]
  },
  {
   "cell_type": "code",
   "execution_count": 4,
   "id": "74094b71",
   "metadata": {},
   "outputs": [],
   "source": [
    "df_train_final['tweet']=df_train_final['tweet'].apply(text_cleaner)"
   ]
  },
  {
   "cell_type": "code",
   "execution_count": 5,
   "id": "0f32f8c9",
   "metadata": {},
   "outputs": [
    {
     "data": {
      "text/plain": [
       "(54313, 3)"
      ]
     },
     "execution_count": 5,
     "metadata": {},
     "output_type": "execute_result"
    }
   ],
   "source": [
    "df_train_final.shape"
   ]
  },
  {
   "cell_type": "code",
   "execution_count": 6,
   "id": "87fc8789",
   "metadata": {},
   "outputs": [
    {
     "name": "stdout",
     "output_type": "stream",
     "text": [
      "<class 'pandas.core.frame.DataFrame'>\n",
      "Int64Index: 54313 entries, 0 to 24782\n",
      "Data columns (total 3 columns):\n",
      " #   Column  Non-Null Count  Dtype  \n",
      "---  ------  --------------  -----  \n",
      " 0   index   29530 non-null  float64\n",
      " 1   label   54313 non-null  int64  \n",
      " 2   tweet   54313 non-null  object \n",
      "dtypes: float64(1), int64(1), object(1)\n",
      "memory usage: 1.7+ MB\n"
     ]
    }
   ],
   "source": [
    "X = df_train_final['tweet'].astype(str)  # Converting to string, because vectorizer does'nt accept list.\n",
    "y = df_train_final['label'].astype(str)  # Converting to string, because vectorizer does'nt accept list.\n",
    "X_train, X_test, y_train, y_test =  train_test_split(X, y, train_size = 0.8, random_state = 3) \n",
    "df_train_final.info()"
   ]
  },
  {
   "cell_type": "code",
   "execution_count": 7,
   "id": "a612280c",
   "metadata": {},
   "outputs": [
    {
     "name": "stdout",
     "output_type": "stream",
     "text": [
      "No. of feature_words:  281664\n"
     ]
    },
    {
     "name": "stderr",
     "output_type": "stream",
     "text": [
      "/Users/jyotibhandari/tensorflow-metal/lib/python3.9/site-packages/sklearn/utils/deprecation.py:87: FutureWarning: Function get_feature_names is deprecated; get_feature_names is deprecated in 1.0 and will be removed in 1.2. Please use get_feature_names_out instead.\n",
      "  warnings.warn(msg, category=FutureWarning)\n"
     ]
    }
   ],
   "source": [
    "# Extracting features using TF-IDF (1,2) - unigrams and bigrams\n",
    "vectoriser = TfidfVectorizer(ngram_range=(1,2), max_features=500000)\n",
    "vectoriser.fit(X_train)\n",
    "print('No. of feature_words: ', len(vectoriser.get_feature_names()))"
   ]
  },
  {
   "cell_type": "code",
   "execution_count": 8,
   "id": "dfc913c9",
   "metadata": {},
   "outputs": [],
   "source": [
    "X_train = vectoriser.transform(X_train)\n",
    "X_test  = vectoriser.transform(X_test)"
   ]
  },
  {
   "cell_type": "code",
   "execution_count": null,
   "id": "0638886e",
   "metadata": {},
   "outputs": [],
   "source": [
    "model_svc = SVC(C=1000, gamma= 0.001, kernel='rbf').fit(X_train, y_train)\n",
    "prediction2=model_svc.predict(X_test)\n",
    "print(confusion_matrix(y_test,prediction2))\n",
    "print (metrics.classification_report(y_test, prediction2))"
   ]
  },
  {
   "cell_type": "code",
   "execution_count": null,
   "id": "26341d26",
   "metadata": {},
   "outputs": [],
   "source": [
    "import pickle \n",
    "pickle.dump(model_svc, open('SVC_test_model.sav', 'wb'))\n",
    "\n"
   ]
  },
  {
   "cell_type": "code",
   "execution_count": null,
   "id": "18f3e14a",
   "metadata": {},
   "outputs": [],
   "source": [
    "loaded_model = pickle.load(open('SVC_test_model.sav', 'rb'))"
   ]
  },
  {
   "cell_type": "code",
   "execution_count": 125,
   "id": "97815417",
   "metadata": {},
   "outputs": [
    {
     "name": "stdout",
     "output_type": "stream",
     "text": [
      "Input text: [['want fuck even underage']]\n",
      "pred= ['0']\n",
      "Text is safe.\n"
     ]
    }
   ],
   "source": [
    "\n",
    "\n",
    "\n",
    "test = 'I want to fuck with you even if you are underage.'\n",
    "test= [text_cleaner(test)]\n",
    "print('Input text:', [test])\n",
    "test_vect = vectoriser.transform(test)\n",
    "pred = loaded_model.predict(test_vect)\n",
    "print(\"pred=\", pred)\n",
    "if (pred=='1'):\n",
    "    print('Text falls under hate and abusive category')\n",
    "else:\n",
    "    print('Text is safe.')"
   ]
  },
  {
   "cell_type": "code",
   "execution_count": 118,
   "id": "16fec6b7",
   "metadata": {},
   "outputs": [
    {
     "name": "stdout",
     "output_type": "stream",
     "text": [
      "[[5985  394]\n",
      " [ 474 4010]]\n",
      "              precision    recall  f1-score   support\n",
      "\n",
      "           0       0.93      0.94      0.93      6379\n",
      "           1       0.91      0.89      0.90      4484\n",
      "\n",
      "    accuracy                           0.92     10863\n",
      "   macro avg       0.92      0.92      0.92     10863\n",
      "weighted avg       0.92      0.92      0.92     10863\n",
      "\n"
     ]
    }
   ],
   "source": [
    "model_1= MultinomialNB().fit(X_train, y_train)\n",
    "prediction1=model1.predict(X_test)\n",
    "print(confusion_matrix(y_test,prediction1))\n",
    "print (metrics.classification_report(y_test, prediction1))"
   ]
  },
  {
   "cell_type": "code",
   "execution_count": 59,
   "id": "8f8ef129",
   "metadata": {},
   "outputs": [],
   "source": [
    "pickle.dump(model_1, open('test_model_multinomial.sav', 'wb'))"
   ]
  },
  {
   "cell_type": "code",
   "execution_count": 63,
   "id": "ef7b426f",
   "metadata": {},
   "outputs": [],
   "source": [
    "loaded_model_1 = pickle.load(open('test_model_multinomial.sav', 'rb'))\n"
   ]
  },
  {
   "cell_type": "code",
   "execution_count": 128,
   "id": "bf6d2342",
   "metadata": {},
   "outputs": [
    {
     "name": "stdout",
     "output_type": "stream",
     "text": [
      "Input text: [['want fuck']]\n",
      "pred= ['1']\n",
      "Text falls under hate and abusive category\n"
     ]
    }
   ],
   "source": [
    "\n",
    "test = ''\n",
    "test= [text_cleaner(test)]\n",
    "print('Input text:', [test])\n",
    "test_vect = vectoriser.transform(test)\n",
    "pred = loaded_model_1.predict(test_vect)\n",
    "print(\"pred=\", pred)\n",
    "if (pred=='1'):\n",
    "    print('Text falls under hate and abusive category')\n",
    "else:\n",
    "    print('Text is safe.')"
   ]
  },
  {
   "cell_type": "code",
   "execution_count": 76,
   "id": "df9cb56b",
   "metadata": {},
   "outputs": [],
   "source": [
    "loaded_model_M = pickle.load(open('final_model_multinomial.sav', 'rb'))\n",
    "loaded_model_SVC = pickle.load(open('final_model_SVC.sav', 'rb'))\n",
    "loaded_model_Logistic= pickle.load(open('final_model_Logistic.sav', 'rb'))\n",
    "loaded_model_RF= pickle.load(open('final_model_RandomForest.sav', 'rb'))\n",
    "loaded_model_DT= pickle.load(open('final_model_DecisionTreeClassifier.sav', 'rb'))"
   ]
  },
  {
   "cell_type": "code",
   "execution_count": 77,
   "id": "c2e5b8d0",
   "metadata": {},
   "outputs": [
    {
     "name": "stdout",
     "output_type": "stream",
     "text": [
      "Input text: [['like']]\n"
     ]
    },
    {
     "ename": "ValueError",
     "evalue": "X has 281664 features, but MultinomialNB is expecting 339477 features as input.",
     "output_type": "error",
     "traceback": [
      "\u001b[0;31m---------------------------------------------------------------------------\u001b[0m",
      "\u001b[0;31mValueError\u001b[0m                                Traceback (most recent call last)",
      "Input \u001b[0;32mIn [77]\u001b[0m, in \u001b[0;36m<cell line: 5>\u001b[0;34m()\u001b[0m\n\u001b[1;32m      3\u001b[0m \u001b[38;5;28mprint\u001b[39m(\u001b[38;5;124m'\u001b[39m\u001b[38;5;124mInput text:\u001b[39m\u001b[38;5;124m'\u001b[39m, [test])\n\u001b[1;32m      4\u001b[0m test_vect \u001b[38;5;241m=\u001b[39m vectoriser\u001b[38;5;241m.\u001b[39mtransform(test)\n\u001b[0;32m----> 5\u001b[0m pred1 \u001b[38;5;241m=\u001b[39m \u001b[43mloaded_model_M\u001b[49m\u001b[38;5;241;43m.\u001b[39;49m\u001b[43mpredict\u001b[49m\u001b[43m(\u001b[49m\u001b[43mtest_vect\u001b[49m\u001b[43m)\u001b[49m\n\u001b[1;32m      6\u001b[0m pred2 \u001b[38;5;241m=\u001b[39m loaded_model_SVC\u001b[38;5;241m.\u001b[39mpredict(test_vect)\n\u001b[1;32m      7\u001b[0m pred3 \u001b[38;5;241m=\u001b[39m loaded_model_Logistic\u001b[38;5;241m.\u001b[39mpredict(test_vect)\n",
      "File \u001b[0;32m~/tensorflow-metal/lib/python3.9/site-packages/sklearn/naive_bayes.py:82\u001b[0m, in \u001b[0;36m_BaseNB.predict\u001b[0;34m(self, X)\u001b[0m\n\u001b[1;32m     68\u001b[0m \u001b[38;5;124;03m\"\"\"\u001b[39;00m\n\u001b[1;32m     69\u001b[0m \u001b[38;5;124;03mPerform classification on an array of test vectors X.\u001b[39;00m\n\u001b[1;32m     70\u001b[0m \n\u001b[0;32m   (...)\u001b[0m\n\u001b[1;32m     79\u001b[0m \u001b[38;5;124;03m    Predicted target values for X.\u001b[39;00m\n\u001b[1;32m     80\u001b[0m \u001b[38;5;124;03m\"\"\"\u001b[39;00m\n\u001b[1;32m     81\u001b[0m check_is_fitted(\u001b[38;5;28mself\u001b[39m)\n\u001b[0;32m---> 82\u001b[0m X \u001b[38;5;241m=\u001b[39m \u001b[38;5;28;43mself\u001b[39;49m\u001b[38;5;241;43m.\u001b[39;49m\u001b[43m_check_X\u001b[49m\u001b[43m(\u001b[49m\u001b[43mX\u001b[49m\u001b[43m)\u001b[49m\n\u001b[1;32m     83\u001b[0m jll \u001b[38;5;241m=\u001b[39m \u001b[38;5;28mself\u001b[39m\u001b[38;5;241m.\u001b[39m_joint_log_likelihood(X)\n\u001b[1;32m     84\u001b[0m \u001b[38;5;28;01mreturn\u001b[39;00m \u001b[38;5;28mself\u001b[39m\u001b[38;5;241m.\u001b[39mclasses_[np\u001b[38;5;241m.\u001b[39margmax(jll, axis\u001b[38;5;241m=\u001b[39m\u001b[38;5;241m1\u001b[39m)]\n",
      "File \u001b[0;32m~/tensorflow-metal/lib/python3.9/site-packages/sklearn/naive_bayes.py:519\u001b[0m, in \u001b[0;36m_BaseDiscreteNB._check_X\u001b[0;34m(self, X)\u001b[0m\n\u001b[1;32m    517\u001b[0m \u001b[38;5;28;01mdef\u001b[39;00m \u001b[38;5;21m_check_X\u001b[39m(\u001b[38;5;28mself\u001b[39m, X):\n\u001b[1;32m    518\u001b[0m     \u001b[38;5;124;03m\"\"\"Validate X, used only in predict* methods.\"\"\"\u001b[39;00m\n\u001b[0;32m--> 519\u001b[0m     \u001b[38;5;28;01mreturn\u001b[39;00m \u001b[38;5;28;43mself\u001b[39;49m\u001b[38;5;241;43m.\u001b[39;49m\u001b[43m_validate_data\u001b[49m\u001b[43m(\u001b[49m\u001b[43mX\u001b[49m\u001b[43m,\u001b[49m\u001b[43m \u001b[49m\u001b[43maccept_sparse\u001b[49m\u001b[38;5;241;43m=\u001b[39;49m\u001b[38;5;124;43m\"\u001b[39;49m\u001b[38;5;124;43mcsr\u001b[39;49m\u001b[38;5;124;43m\"\u001b[39;49m\u001b[43m,\u001b[49m\u001b[43m \u001b[49m\u001b[43mreset\u001b[49m\u001b[38;5;241;43m=\u001b[39;49m\u001b[38;5;28;43;01mFalse\u001b[39;49;00m\u001b[43m)\u001b[49m\n",
      "File \u001b[0;32m~/tensorflow-metal/lib/python3.9/site-packages/sklearn/base.py:585\u001b[0m, in \u001b[0;36mBaseEstimator._validate_data\u001b[0;34m(self, X, y, reset, validate_separately, **check_params)\u001b[0m\n\u001b[1;32m    582\u001b[0m     out \u001b[38;5;241m=\u001b[39m X, y\n\u001b[1;32m    584\u001b[0m \u001b[38;5;28;01mif\u001b[39;00m \u001b[38;5;129;01mnot\u001b[39;00m no_val_X \u001b[38;5;129;01mand\u001b[39;00m check_params\u001b[38;5;241m.\u001b[39mget(\u001b[38;5;124m\"\u001b[39m\u001b[38;5;124mensure_2d\u001b[39m\u001b[38;5;124m\"\u001b[39m, \u001b[38;5;28;01mTrue\u001b[39;00m):\n\u001b[0;32m--> 585\u001b[0m     \u001b[38;5;28;43mself\u001b[39;49m\u001b[38;5;241;43m.\u001b[39;49m\u001b[43m_check_n_features\u001b[49m\u001b[43m(\u001b[49m\u001b[43mX\u001b[49m\u001b[43m,\u001b[49m\u001b[43m \u001b[49m\u001b[43mreset\u001b[49m\u001b[38;5;241;43m=\u001b[39;49m\u001b[43mreset\u001b[49m\u001b[43m)\u001b[49m\n\u001b[1;32m    587\u001b[0m \u001b[38;5;28;01mreturn\u001b[39;00m out\n",
      "File \u001b[0;32m~/tensorflow-metal/lib/python3.9/site-packages/sklearn/base.py:400\u001b[0m, in \u001b[0;36mBaseEstimator._check_n_features\u001b[0;34m(self, X, reset)\u001b[0m\n\u001b[1;32m    397\u001b[0m     \u001b[38;5;28;01mreturn\u001b[39;00m\n\u001b[1;32m    399\u001b[0m \u001b[38;5;28;01mif\u001b[39;00m n_features \u001b[38;5;241m!=\u001b[39m \u001b[38;5;28mself\u001b[39m\u001b[38;5;241m.\u001b[39mn_features_in_:\n\u001b[0;32m--> 400\u001b[0m     \u001b[38;5;28;01mraise\u001b[39;00m \u001b[38;5;167;01mValueError\u001b[39;00m(\n\u001b[1;32m    401\u001b[0m         \u001b[38;5;124mf\u001b[39m\u001b[38;5;124m\"\u001b[39m\u001b[38;5;124mX has \u001b[39m\u001b[38;5;132;01m{\u001b[39;00mn_features\u001b[38;5;132;01m}\u001b[39;00m\u001b[38;5;124m features, but \u001b[39m\u001b[38;5;132;01m{\u001b[39;00m\u001b[38;5;28mself\u001b[39m\u001b[38;5;241m.\u001b[39m\u001b[38;5;18m__class__\u001b[39m\u001b[38;5;241m.\u001b[39m\u001b[38;5;18m__name__\u001b[39m\u001b[38;5;132;01m}\u001b[39;00m\u001b[38;5;124m \u001b[39m\u001b[38;5;124m\"\u001b[39m\n\u001b[1;32m    402\u001b[0m         \u001b[38;5;124mf\u001b[39m\u001b[38;5;124m\"\u001b[39m\u001b[38;5;124mis expecting \u001b[39m\u001b[38;5;132;01m{\u001b[39;00m\u001b[38;5;28mself\u001b[39m\u001b[38;5;241m.\u001b[39mn_features_in_\u001b[38;5;132;01m}\u001b[39;00m\u001b[38;5;124m features as input.\u001b[39m\u001b[38;5;124m\"\u001b[39m\n\u001b[1;32m    403\u001b[0m     )\n",
      "\u001b[0;31mValueError\u001b[0m: X has 281664 features, but MultinomialNB is expecting 339477 features as input."
     ]
    }
   ],
   "source": [
    "test = 'I like you'\n",
    "test= [text_cleaner(test)]\n",
    "print('Input text:', [test])\n",
    "test_vect = vectoriser.transform(test)\n",
    "pred1 = loaded_model_M.predict(test_vect)\n",
    "pred2 = loaded_model_SVC.predict(test_vect)\n",
    "pred3 = loaded_model_Logistic.predict(test_vect)\n",
    "pred4 = loaded_model_RF.predict(test_vect)\n",
    "pred5 = loaded_model_DT.predict(test_vect)\n",
    "print('\\nMultinomial model ')\n",
    "if (pred1=='1'):\n",
    "    print('  Text falls under hate and abusive category')\n",
    "else:\n",
    "    print('  Text is safe.')\n",
    "\n",
    "print('\\nSVC model ')\n",
    "if (pred2=='1'):\n",
    "    print('   Text falls under hate and abusive category')\n",
    "else:\n",
    "    print('   Text is safe.')\n",
    "print('\\nLogistic Regression ')\n",
    "if (pred3=='1'):\n",
    "    print('   Text falls under hate and abusive category')\n",
    "else:\n",
    "    print('   Text is safe.')    \n",
    "\n",
    "print('\\nRandom Forest ')\n",
    "\n",
    "if (pred4=='1'):\n",
    "    print('   Text falls under hate and abusive category')\n",
    "else:\n",
    "    print('   Text is safe.') \n",
    "    \n",
    "print('\\nDecision Tree Classifier ')\n",
    "if (pred5=='1'):\n",
    "    print('  Text falls under hate and abusive category')\n",
    "else:\n",
    "    print('  Text is safe.')  "
   ]
  },
  {
   "cell_type": "code",
   "execution_count": null,
   "id": "954a4e32",
   "metadata": {},
   "outputs": [],
   "source": []
  }
 ],
 "metadata": {
  "kernelspec": {
   "display_name": "Python 3 (ipykernel)",
   "language": "python",
   "name": "python3"
  },
  "language_info": {
   "codemirror_mode": {
    "name": "ipython",
    "version": 3
   },
   "file_extension": ".py",
   "mimetype": "text/x-python",
   "name": "python",
   "nbconvert_exporter": "python",
   "pygments_lexer": "ipython3",
   "version": "3.9.10"
  }
 },
 "nbformat": 4,
 "nbformat_minor": 5
}
